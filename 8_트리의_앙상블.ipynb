{
  "nbformat": 4,
  "nbformat_minor": 0,
  "metadata": {
    "colab": {
      "provenance": [],
      "authorship_tag": "ABX9TyNns0/VuMmWrzCjEqxYRLbj",
      "include_colab_link": true
    },
    "kernelspec": {
      "name": "python3",
      "display_name": "Python 3"
    },
    "language_info": {
      "name": "python"
    }
  },
  "cells": [
    {
      "cell_type": "markdown",
      "metadata": {
        "id": "view-in-github",
        "colab_type": "text"
      },
      "source": [
        "<a href=\"https://colab.research.google.com/github/1024andrew/colab_ML-DL_practice/blob/main/8_%ED%8A%B8%EB%A6%AC%EC%9D%98_%EC%95%99%EC%83%81%EB%B8%94.ipynb\" target=\"_parent\"><img src=\"https://colab.research.google.com/assets/colab-badge.svg\" alt=\"Open In Colab\"/></a>"
      ]
    },
    {
      "cell_type": "code",
      "execution_count": null,
      "metadata": {
        "id": "TBJ3a2s9pY2E"
      },
      "outputs": [],
      "source": [
        "import pandas as pd\n",
        "wine = pd.read_csv(\"https://bit.ly/wine_csv_data\")"
      ]
    },
    {
      "cell_type": "code",
      "source": [
        "data = wine[[\"alcohol\",\"sugar\", \"pH\"]].to_numpy()\n",
        "target = wine[\"class\"].to_numpy()"
      ],
      "metadata": {
        "id": "L9LSfT71UlrA"
      },
      "execution_count": null,
      "outputs": []
    },
    {
      "cell_type": "code",
      "source": [
        "from sklearn.model_selection import train_test_split\n",
        "train_input, test_input, train_target, test_target = train_test_split(data, target, test_size=0.2, random_state=42)"
      ],
      "metadata": {
        "id": "z2CMC6kTU6Df"
      },
      "execution_count": null,
      "outputs": []
    },
    {
      "cell_type": "code",
      "source": [
        "from sklearn.model_selection import cross_validate\n",
        "\n",
        "#랜덤 포레스트 불러오기\n",
        "from sklearn.ensemble import RandomForestClassifier\n",
        "import numpy as np\n",
        "\n",
        "rf = RandomForestClassifier(n_jobs=-1,random_state=42)\n",
        "\n",
        "#return_train_score을 True로 설정함으로써 훈련세트에 대한 점수를 확인할 수 있다.\n",
        "#test_score는 검증 세트로 검증한 점수임을 잊지말아야 한다.\n",
        "scores = cross_validate(rf, train_input, train_target, return_train_score=True, n_jobs=-1)\n",
        "\n",
        "print(np.mean(scores[\"train_score\"]))\n",
        "print(np.mean(scores[\"test_score\"]))"
      ],
      "metadata": {
        "colab": {
          "base_uri": "https://localhost:8080/"
        },
        "id": "povX7qldVL_f",
        "outputId": "f8d867f7-46de-47d0-b998-1942c8debeaf"
      },
      "execution_count": null,
      "outputs": [
        {
          "output_type": "stream",
          "name": "stdout",
          "text": [
            "0.9973541965122431\n",
            "0.8905151032797809\n"
          ]
        }
      ]
    },
    {
      "cell_type": "code",
      "source": [
        "#cross_validate를 통해서 교차검증을 끝냈을 때는 설정된 하이퍼 파라미터의 성능이 이정도일 것이라는 추정치를 보여주는 것일 뿐이다\n",
        "#GridSearchCV는 교차 검증과 달리 내가 지정한 파라미터 범위 내에서 최적의 하이퍼 파라미터 설정을 찾아준다.\n",
        "\n",
        "#따라서 fit 으로 모델을 훈련하는 과정이 반드시 필요하다.\n",
        "rf.fit(train_input, train_target)\n",
        "\n",
        "\n",
        "#랜덤 포레스트는 결정트리가 제공하는 중요한 매개변수를 모두 제공한다.\n",
        "#feature_importances_ 로 특성 중요도(처음에 data로 분류한 종목들)를 확인할 수 있다.\n",
        "print(rf.feature_importances_)"
      ],
      "metadata": {
        "colab": {
          "base_uri": "https://localhost:8080/"
        },
        "id": "dgvJV__qWB0E",
        "outputId": "84a9490f-4051-469e-f6bc-cd1b79894fc0"
      },
      "execution_count": null,
      "outputs": [
        {
          "output_type": "stream",
          "name": "stdout",
          "text": [
            "[0.23167441 0.50039841 0.26792718]\n"
          ]
        }
      ]
    },
    {
      "cell_type": "code",
      "source": [
        "#랜덤 포레스트에는 OOB 샘플이라는 것이 존재한다. OOB란 부트스트랩 샘플에 속하지 않는 샘플들을 모아놓은 것이다.\n",
        "#랜덤 포레스트는 OOB 샘플을 이용하여 자체적으로 모델을 평가할 수 있다.\n",
        "#OOB가 존재하지 않을 수도 있는데 oob_score을 계산할 때 그런 샘플은 평가에서 제외한다.\n",
        "\n",
        "#OOB로 모델을 평가하려면 oob_score을 True 로 지정해 주어야 한다.\n",
        "#사용할 때는 oob_score_ 로 사용한다.\n",
        "rf = RandomForestClassifier(n_jobs= -1, oob_score=True, random_state=42)\n",
        "\n",
        "#랜덤 포레스트를 훈련 세트를 통해 훈련시키고(이 과정에서 부트스트랩 샘플 생성 및 사용) 자체 OOB 샘플을 사용해 평가하는 과정\n",
        "rf.fit(train_input, train_target)\n",
        "print(rf.oob_score_)"
      ],
      "metadata": {
        "colab": {
          "base_uri": "https://localhost:8080/"
        },
        "id": "3FXL5CiWWPLe",
        "outputId": "ac3ec993-8cf8-4a08-f3b2-30b092b9f265"
      },
      "execution_count": null,
      "outputs": [
        {
          "output_type": "stream",
          "name": "stdout",
          "text": [
            "0.8934000384837406\n"
          ]
        }
      ]
    },
    {
      "cell_type": "code",
      "source": [
        "#엑스트라 트리\n",
        "#엑스트라 트리는 랜덤 포레스트와 유사하지만 부트스트랩 샘플을 사용하지 않는다는 차이점이 있다.\n",
        "#엑스트라 트리는 훈련 세트를 사용해 결정 트리를 만들고 특성을 무작위로 선택하여 분할한다.\n",
        "from sklearn.ensemble import ExtraTreesClassifier\n",
        "et = ExtraTreesClassifier(n_jobs=-1, random_state=42)\n",
        "\n",
        "#엑스트라 트리를 교차 검증하고 테스트 평균 점수와 검증 평균 점수를 출력\n",
        "scores = cross_validate(et, train_input, train_target, n_jobs=-1, return_train_score=True)\n",
        "print(np.mean(scores[\"train_score\"]))\n",
        "print(np.mean(scores[\"test_score\"]))"
      ],
      "metadata": {
        "colab": {
          "base_uri": "https://localhost:8080/"
        },
        "id": "StJrrvRkXvYY",
        "outputId": "96f5216c-1aa0-460e-a737-5fcbd3333199"
      },
      "execution_count": null,
      "outputs": [
        {
          "output_type": "stream",
          "name": "stdout",
          "text": [
            "0.9974503966084433\n",
            "0.8887848893166506\n"
          ]
        }
      ]
    },
    {
      "cell_type": "code",
      "source": [
        "et.fit(train_input, train_target)\n",
        "\n",
        "#엑스트라 역시 특성 중요도를 출력할 수 있다.\n",
        "print(et.feature_importances_)"
      ],
      "metadata": {
        "colab": {
          "base_uri": "https://localhost:8080/"
        },
        "id": "q3HBB6RVa4L9",
        "outputId": "c911689e-a9b2-40fd-9069-29c81f694e72"
      },
      "execution_count": null,
      "outputs": [
        {
          "output_type": "stream",
          "name": "stdout",
          "text": [
            "[0.20183568 0.52242907 0.27573525]\n"
          ]
        }
      ]
    },
    {
      "cell_type": "code",
      "source": [
        "#그레이디언트 부스팅\n",
        "#길이가 얕은 결정 트리를 사용하여 이전의 오차를 보완하는 방식으로 앙상블 하는 방법이다.\n",
        "#결정트리를 계속 추가하면서 경사 하강법을 사용한다.\n",
        "\n",
        "from sklearn.ensemble import GradientBoostingClassifier\n",
        "\n",
        "gb = GradientBoostingClassifier(random_state=42)\n",
        "scores = cross_validate(gb, train_input, train_target, n_jobs=-1, return_train_score=True)\n",
        "\n",
        "print(np.mean(scores[\"train_score\"]))\n",
        "print(np.mean(scores[\"test_score\"]))"
      ],
      "metadata": {
        "colab": {
          "base_uri": "https://localhost:8080/"
        },
        "id": "veFAY1LWbYXJ",
        "outputId": "f16daf89-0dcc-4ec2-8e3f-2b3327c38389"
      },
      "execution_count": null,
      "outputs": [
        {
          "output_type": "stream",
          "name": "stdout",
          "text": [
            "0.8881086892152563\n",
            "0.8720430147331015\n"
          ]
        }
      ]
    },
    {
      "cell_type": "code",
      "source": [
        "#그레이디언트 부스팅은 결정 트리의 개수를 늘려도 과대적합을 잘 억제한다.\n",
        "#학습률은 각 트리의 기여도를 의미한다.(커질수록 성큼성큼 가고 작을수록 살짝살짝씩 가는 느낌)\n",
        "\n",
        "#결정트리의 개수는 n_estimators 로, 학습률은 learning_rate로 정한다.\n",
        "gb = GradientBoostingClassifier(random_state=42, n_estimators=500, learning_rate=0.2)\n",
        "scores=cross_validate(gb, train_input, train_target, n_jobs=-1, return_train_score=True)\n",
        "\n",
        "print(np.mean(scores[\"train_score\"]))\n",
        "print(np.mean(scores[\"test_score\"]))"
      ],
      "metadata": {
        "colab": {
          "base_uri": "https://localhost:8080/"
        },
        "id": "q_ziQuBudCqe",
        "outputId": "1a1128bd-f3fe-4ae4-8cc6-5e09ea7ecdb7"
      },
      "execution_count": null,
      "outputs": [
        {
          "output_type": "stream",
          "name": "stdout",
          "text": [
            "0.9464595437171814\n",
            "0.8780082549788999\n"
          ]
        }
      ]
    },
    {
      "cell_type": "code",
      "source": [
        "#마찬가지로 특성 중요도를 추출할 수 있다.\n",
        "\n",
        "gb.fit(train_input, train_target)\n",
        "print(gb.feature_importances_)"
      ],
      "metadata": {
        "colab": {
          "base_uri": "https://localhost:8080/"
        },
        "id": "aLJlHgMgeFq-",
        "outputId": "eca3e98f-69d9-4300-c3af-213d3b890cd1"
      },
      "execution_count": null,
      "outputs": [
        {
          "output_type": "stream",
          "name": "stdout",
          "text": [
            "[0.15887763 0.6799705  0.16115187]\n"
          ]
        }
      ]
    },
    {
      "cell_type": "code",
      "source": [
        "#히스토그램 기반 그레이디언트 부스팅\n",
        "#히스토그램 기반 그레이디언트 부스팅에서 결정 트리 개수를 지정할 때는 그레이디언트 부스팅과는 다르게 max_iter 매개변수를 사용한다.\n",
        "from sklearn.ensemble import HistGradientBoostingClassifier\n",
        "hgb = HistGradientBoostingClassifier(random_state=42)\n",
        "scores = cross_validate(hgb, train_input, train_target, n_jobs=-1, return_train_score=True)\n",
        "\n",
        "print(np.mean(scores[\"train_score\"]))\n",
        "print(np.mean(scores[\"test_score\"]))"
      ],
      "metadata": {
        "colab": {
          "base_uri": "https://localhost:8080/"
        },
        "id": "vF0LiZWQd0e5",
        "outputId": "0ffd938a-364c-473b-e3b7-755d655f3e6b"
      },
      "execution_count": null,
      "outputs": [
        {
          "output_type": "stream",
          "name": "stdout",
          "text": [
            "0.9321723946453317\n",
            "0.8801241948619236\n"
          ]
        }
      ]
    },
    {
      "cell_type": "code",
      "source": [
        "#역시 특성 중요도를 출력할 수 있지만 permutation_importance() 라는 함수를 사용해야한다.\n",
        "#permutation_importance()는 함수의 특성을 랜덤하게 섞어 모델의 성능 변화를 관찰하여 특성 중요도를 계산한다.\n",
        "#n_repeats로 랜덤하게 섞는 횟수를 정할 수 있다(기본값 5)\n",
        "\n",
        "from sklearn.inspection import permutation_importance\n",
        "\n",
        "#permutation_importance 함수는 이미 학습된 모델의 특성 중요도를 평가하는 함수이므로 반드시 모델을 fit 한 상태에서 사용해야한다.\n",
        "hgb.fit(train_input, train_target)\n",
        "\n",
        "results = permutation_importance(hgb, train_input, train_target, random_state=42, n_jobs=-1, n_repeats=10)\n",
        "\n",
        "#permutation_importance 함수가 반환하는 객체는 특성 중요도(importances) -> 원본 데이터 / 특성 중요도 평균(importances_mean) -> 주로 사용 / 특성 중요도 표준편차(importances_std) 이다.\n",
        "print(results.importances_mean)"
      ],
      "metadata": {
        "colab": {
          "base_uri": "https://localhost:8080/"
        },
        "id": "4ENm8vS5f9JM",
        "outputId": "f9467b9a-a28b-45d9-e35b-90b6dcdd86a6"
      },
      "execution_count": null,
      "outputs": [
        {
          "output_type": "stream",
          "name": "stdout",
          "text": [
            "[0.08876275 0.23438522 0.08027708]\n"
          ]
        }
      ]
    },
    {
      "cell_type": "code",
      "source": [],
      "metadata": {
        "id": "E0EhuH41iLE_"
      },
      "execution_count": null,
      "outputs": []
    }
  ]
}